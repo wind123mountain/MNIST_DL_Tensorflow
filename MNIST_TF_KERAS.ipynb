{
  "nbformat": 4,
  "nbformat_minor": 0,
  "metadata": {
    "colab": {
      "name": "Project3V2.ipynb",
      "provenance": []
    },
    "kernelspec": {
      "name": "python3",
      "display_name": "Python 3"
    },
    "language_info": {
      "name": "python"
    },
    "accelerator": "GPU"
  },
  "cells": [
    {
      "cell_type": "code",
      "metadata": {
        "id": "1OnfxORsrJOI"
      },
      "source": [
        "from tensorflow.keras.datasets import mnist\n",
        "\n",
        "(X_full, y_full), (X_test, y_test) = mnist.load_data()\n",
        "\n",
        "X_valid, X_train = X_full[:5000] / 255.0, X_full[5000:] / 255.0\n",
        "y_valid, y_train = y_full[:5000], y_full[5000:]\n",
        "\n",
        "X_test = X_test / 255.0"
      ],
      "execution_count": null,
      "outputs": []
    },
    {
      "cell_type": "code",
      "metadata": {
        "id": "JOdUBY3MsHCw",
        "colab": {
          "base_uri": "https://localhost:8080/",
          "height": 411
        },
        "outputId": "f5d1a009-5a46-4431-bf81-bf6ee13cb89f"
      },
      "source": [
        "import matplotlib.pyplot as plt\n",
        "\n",
        "plt.figure(figsize=(8, 7))\n",
        "for i in range(12):\n",
        "    plt.subplot(3, 4, i+1)\n",
        "    plt.xticks([])\n",
        "    plt.yticks([])\n",
        "    plt.imshow(X_train[i])\n",
        "    plt.xlabel(y_train[i])\n",
        "plt.show()\n"
      ],
      "execution_count": null,
      "outputs": [
        {
          "output_type": "display_data",
          "data": {
            "image/png": "[encoded data removed]",
            "text/plain": [
              "<Figure size 576x504 with 12 Axes>"
            ]
          },
          "metadata": {}
        }
      ]
    },
    {
      "cell_type": "code",
      "metadata": {
        "id": "-2L2ZUzb_kCR"
      },
      "source": [
        "#Reshape input 2D\n",
        "X_train = X_train.reshape((55000, 28, 28, 1))\n",
        "X_valid = X_valid.reshape((5000, 28, 28, 1))\n",
        "X_test = X_test.reshape((10000, 28, 28, 1))\n"
      ],
      "execution_count": null,
      "outputs": []
    },
    {
      "cell_type": "code",
      "metadata": {
        "colab": {
          "base_uri": "https://localhost:8080/"
        },
        "id": "jeYBHAisHDIa",
        "outputId": "63a7884e-952b-4577-d2c0-8de314a36a4e"
      },
      "source": [
        "from tensorflow.keras.models import Sequential\n",
        "from tensorflow.keras.layers import Conv2D\n",
        "from tensorflow.keras.layers import MaxPooling2D\n",
        "from tensorflow.keras.layers import Dense\n",
        "from tensorflow.keras.layers import Flatten\n",
        "from tensorflow.keras.layers import BatchNormalization\n",
        "from tensorflow.keras.layers import Dropout\n",
        "from tensorflow.keras.layers import Activation\n",
        "\n",
        "# build the model\n",
        "\n",
        "model = Sequential([\n",
        "    Conv2D(16, (5, 5), strides=(1, 1), input_shape=(28, 28, 1), padding=\"same\"),\n",
        "    BatchNormalization(),\n",
        "    Activation(\"relu\"),\n",
        "    MaxPooling2D((2, 2)),\n",
        "    Conv2D(32, (5, 5), strides=(1, 1), activation=\"relu\", padding=\"same\"),\n",
        "    MaxPooling2D((2, 2)),\n",
        "    Dropout(0.3),\n",
        "    Conv2D(64, (3, 3), strides=(1, 1), padding=\"same\"),\n",
        "    BatchNormalization(),\n",
        "    Activation(\"relu\"),\n",
        "    Conv2D(128, (3, 3), strides=(1, 1), activation=\"relu\", padding=\"same\"),\n",
        "    MaxPooling2D((2, 2)),\n",
        "    Flatten(),\n",
        "    Dropout(0.3),\n",
        "    Dense(64, activation=\"relu\"),\n",
        "    Dense(32, activation=\"relu\"),\n",
        "    #Dropout(0.3),\n",
        "    Dense(10, activation=\"softmax\"),\n",
        "])\n",
        "\n",
        "model.summary()\n"
      ],
      "execution_count": null,
      "outputs": [
        {
          "output_type": "stream",
          "name": "stdout",
          "text": [
            "Model: \"sequential\"\n",
            "_________________________________________________________________\n",
            "Layer (type)                 Output Shape              Param #   \n",
            "=================================================================\n",
            "conv2d (Conv2D)              (None, 28, 28, 16)        416       \n",
            "_________________________________________________________________\n",
            "batch_normalization (BatchNo (None, 28, 28, 16)        64        \n",
            "_________________________________________________________________\n",
            "activation (Activation)      (None, 28, 28, 16)        0         \n",
            "_________________________________________________________________\n",
            "max_pooling2d (MaxPooling2D) (None, 14, 14, 16)        0         \n",
            "_________________________________________________________________\n",
            "conv2d_1 (Conv2D)            (None, 14, 14, 32)        12832     \n",
            "_________________________________________________________________\n",
            "max_pooling2d_1 (MaxPooling2 (None, 7, 7, 32)          0         \n",
            "_________________________________________________________________\n",
            "dropout (Dropout)            (None, 7, 7, 32)          0         \n",
            "_________________________________________________________________\n",
            "conv2d_2 (Conv2D)            (None, 7, 7, 64)          18496     \n",
            "_________________________________________________________________\n",
            "batch_normalization_1 (Batch (None, 7, 7, 64)          256       \n",
            "_________________________________________________________________\n",
            "activation_1 (Activation)    (None, 7, 7, 64)          0         \n",
            "_________________________________________________________________\n",
            "conv2d_3 (Conv2D)            (None, 7, 7, 128)         73856     \n",
            "_________________________________________________________________\n",
            "max_pooling2d_2 (MaxPooling2 (None, 3, 3, 128)         0         \n",
            "_________________________________________________________________\n",
            "flatten (Flatten)            (None, 1152)              0         \n",
            "_________________________________________________________________\n",
            "dropout_1 (Dropout)          (None, 1152)              0         \n",
            "_________________________________________________________________\n",
            "dense (Dense)                (None, 64)                73792     \n",
            "_________________________________________________________________\n",
            "dense_1 (Dense)              (None, 32)                2080      \n",
            "_________________________________________________________________\n",
            "dense_2 (Dense)              (None, 10)                330       \n",
            "=================================================================\n",
            "Total params: 182,122\n",
            "Trainable params: 181,962\n",
            "Non-trainable params: 160\n",
            "_________________________________________________________________\n"
          ]
        }
      ]
    },
    {
      "cell_type": "code",
      "metadata": {
        "colab": {
          "base_uri": "https://localhost:8080/"
        },
        "id": "AuMhDsn96QQj",
        "outputId": "c5e9a087-101c-4b27-b3d3-1b2753056011"
      },
      "source": [
        "import tensorflow as tf\n",
        "\n",
        "# compile the model\n",
        "model.compile(loss=tf.keras.losses.SparseCategoricalCrossentropy(), \n",
        "              optimizer=tf.keras.optimizers.SGD(learning_rate = 0.02, momentum = 0.9), \n",
        "              metrics=[\"accuracy\"])\n",
        "\n",
        "\n",
        "# start training\n",
        "epochs = 30\n",
        "history = model.fit(X_train, y_train, epochs=epochs, validation_data=(X_valid, y_valid))"
      ],
      "execution_count": null,
      "outputs": [
        {
          "output_type": "stream",
          "name": "stdout",
          "text": [
            "Epoch 1/30\n",
            "1719/1719 [==============================] - 16s 8ms/step - loss: 0.2456 - accuracy: 0.9248 - val_loss: 0.0843 - val_accuracy: 0.9778\n",
            "Epoch 2/30\n",
            "1719/1719 [==============================] - 13s 8ms/step - loss: 0.0808 - accuracy: 0.9765 - val_loss: 0.0589 - val_accuracy: 0.9820\n",
            "Epoch 3/30\n",
            "1719/1719 [==============================] - 13s 7ms/step - loss: 0.0603 - accuracy: 0.9825 - val_loss: 0.0401 - val_accuracy: 0.9884\n",
            "Epoch 4/30\n",
            "1719/1719 [==============================] - 13s 8ms/step - loss: 0.0487 - accuracy: 0.9860 - val_loss: 0.0360 - val_accuracy: 0.9912\n",
            "Epoch 5/30\n",
            "1719/1719 [==============================] - 13s 7ms/step - loss: 0.0428 - accuracy: 0.9874 - val_loss: 0.0288 - val_accuracy: 0.9928\n",
            "Epoch 6/30\n",
            "1719/1719 [==============================] - 13s 8ms/step - loss: 0.0383 - accuracy: 0.9884 - val_loss: 0.0312 - val_accuracy: 0.9920\n",
            "Epoch 7/30\n",
            "1719/1719 [==============================] - 13s 8ms/step - loss: 0.0334 - accuracy: 0.9899 - val_loss: 0.0278 - val_accuracy: 0.9944\n",
            "Epoch 8/30\n",
            "1719/1719 [==============================] - 13s 8ms/step - loss: 0.0307 - accuracy: 0.9908 - val_loss: 0.0275 - val_accuracy: 0.9930\n",
            "Epoch 9/30\n",
            "1719/1719 [==============================] - 13s 8ms/step - loss: 0.0296 - accuracy: 0.9914 - val_loss: 0.0275 - val_accuracy: 0.9924\n",
            "Epoch 10/30\n",
            "1719/1719 [==============================] - 13s 8ms/step - loss: 0.0259 - accuracy: 0.9921 - val_loss: 0.0644 - val_accuracy: 0.9824\n",
            "Epoch 11/30\n",
            "1719/1719 [==============================] - 13s 7ms/step - loss: 0.0244 - accuracy: 0.9926 - val_loss: 0.0260 - val_accuracy: 0.9938\n",
            "Epoch 12/30\n",
            "1719/1719 [==============================] - 13s 8ms/step - loss: 0.0229 - accuracy: 0.9928 - val_loss: 0.0243 - val_accuracy: 0.9944\n",
            "Epoch 13/30\n",
            "1719/1719 [==============================] - 13s 8ms/step - loss: 0.0219 - accuracy: 0.9936 - val_loss: 0.0234 - val_accuracy: 0.9946\n",
            "Epoch 14/30\n",
            "1719/1719 [==============================] - 13s 8ms/step - loss: 0.0189 - accuracy: 0.9941 - val_loss: 0.0236 - val_accuracy: 0.9940\n",
            "Epoch 15/30\n",
            "1719/1719 [==============================] - 13s 8ms/step - loss: 0.0192 - accuracy: 0.9942 - val_loss: 0.0214 - val_accuracy: 0.9936\n",
            "Epoch 16/30\n",
            "1719/1719 [==============================] - 13s 8ms/step - loss: 0.0197 - accuracy: 0.9939 - val_loss: 0.0241 - val_accuracy: 0.9936\n",
            "Epoch 17/30\n",
            "1719/1719 [==============================] - 13s 8ms/step - loss: 0.0184 - accuracy: 0.9943 - val_loss: 0.0279 - val_accuracy: 0.9930\n",
            "Epoch 18/30\n",
            "1719/1719 [==============================] - 13s 8ms/step - loss: 0.0162 - accuracy: 0.9952 - val_loss: 0.0272 - val_accuracy: 0.9932\n",
            "Epoch 19/30\n",
            "1719/1719 [==============================] - 13s 8ms/step - loss: 0.0178 - accuracy: 0.9942 - val_loss: 0.0274 - val_accuracy: 0.9938\n",
            "Epoch 20/30\n",
            "1719/1719 [==============================] - 13s 8ms/step - loss: 0.0173 - accuracy: 0.9945 - val_loss: 0.0245 - val_accuracy: 0.9926\n",
            "Epoch 21/30\n",
            "1719/1719 [==============================] - 13s 7ms/step - loss: 0.0150 - accuracy: 0.9955 - val_loss: 0.0227 - val_accuracy: 0.9942\n",
            "Epoch 22/30\n",
            "1719/1719 [==============================] - 13s 8ms/step - loss: 0.0140 - accuracy: 0.9960 - val_loss: 0.0206 - val_accuracy: 0.9948\n",
            "Epoch 23/30\n",
            "1719/1719 [==============================] - 13s 8ms/step - loss: 0.0140 - accuracy: 0.9953 - val_loss: 0.0215 - val_accuracy: 0.9942\n",
            "Epoch 24/30\n",
            "1719/1719 [==============================] - 13s 7ms/step - loss: 0.0146 - accuracy: 0.9952 - val_loss: 0.0209 - val_accuracy: 0.9948\n",
            "Epoch 25/30\n",
            "1719/1719 [==============================] - 13s 8ms/step - loss: 0.0124 - accuracy: 0.9962 - val_loss: 0.0179 - val_accuracy: 0.9960\n",
            "Epoch 26/30\n",
            "1719/1719 [==============================] - 13s 8ms/step - loss: 0.0134 - accuracy: 0.9959 - val_loss: 0.0224 - val_accuracy: 0.9952\n",
            "Epoch 27/30\n",
            "1719/1719 [==============================] - 13s 7ms/step - loss: 0.0119 - accuracy: 0.9964 - val_loss: 0.0211 - val_accuracy: 0.9958\n",
            "Epoch 28/30\n",
            "1719/1719 [==============================] - 13s 8ms/step - loss: 0.0115 - accuracy: 0.9965 - val_loss: 0.0261 - val_accuracy: 0.9948\n",
            "Epoch 29/30\n",
            "1719/1719 [==============================] - 13s 8ms/step - loss: 0.0126 - accuracy: 0.9958 - val_loss: 0.0226 - val_accuracy: 0.9952\n",
            "Epoch 30/30\n",
            "1719/1719 [==============================] - 13s 8ms/step - loss: 0.0105 - accuracy: 0.9965 - val_loss: 0.0234 - val_accuracy: 0.9948\n"
          ]
        }
      ]
    },
    {
      "cell_type": "code",
      "metadata": {
        "colab": {
          "base_uri": "https://localhost:8080/",
          "height": 517
        },
        "id": "7ek1WTjh8qQr",
        "outputId": "696bd917-e4fb-4947-c865-7591a6ee19de"
      },
      "source": [
        "def plot_graph():\n",
        "    acc = history.history['accuracy']\n",
        "    val_acc = history.history['val_accuracy']\n",
        "\n",
        "    loss = history.history['loss']\n",
        "    val_loss = history.history['val_loss']\n",
        "\n",
        "    plt.plot(range(epochs), acc, \"b\", label=\"Training Accuracy\")\n",
        "    plt.plot(range(epochs), val_acc, \"r\", label=\"Validation Accuracy\")\n",
        "    plt.legend()\n",
        "\n",
        "    plt.figure()\n",
        "\n",
        "    plt.plot(range(epochs), loss, \"g\", label=\"Training Loss\")\n",
        "    plt.plot(range(epochs), val_loss, \"orange\", label=\"Validation Loss\")\n",
        "    plt.legend()\n",
        "\n",
        "    plt.show()\n",
        "\n",
        "plot_graph()\n"
      ],
      "execution_count": null,
      "outputs": [
        {
          "output_type": "display_data",
          "data": {
            "image/png": "[encoded data removed]",
            "text/plain": [
              "<Figure size 432x288 with 1 Axes>"
            ]
          },
          "metadata": {
            "needs_background": "light"
          }
        },
        {
          "output_type": "display_data",
          "data": {
            "image/png": "[encoded data removed]",
            "text/plain": [
              "<Figure size 432x288 with 1 Axes>"
            ]
          },
          "metadata": {
            "needs_background": "light"
          }
        }
      ]
    },
    {
      "cell_type": "code",
      "metadata": {
        "colab": {
          "base_uri": "https://localhost:8080/"
        },
        "id": "a5pzCOL68yBf",
        "outputId": "0e1be2bc-ec06-4979-e73e-f8bc23aba752"
      },
      "source": [
        "test_loss, test_acc = model.evaluate(X_test,  y_test, verbose=2)\n",
        "\n",
        "print('\\nTest accuracy:', test_acc)\n",
        "print(f'TEST ERROR RATE: {((1-test_acc)*100):.2f} %')"
      ],
      "execution_count": null,
      "outputs": [
        {
          "output_type": "stream",
          "name": "stdout",
          "text": [
            "313/313 - 1s - loss: 0.0171 - accuracy: 0.9962\n",
            "\n",
            "Test accuracy: 0.9962000250816345\n",
            "TEST ERROR RATE: 0.38 %\n"
          ]
        }
      ]
    }
  ]
}
