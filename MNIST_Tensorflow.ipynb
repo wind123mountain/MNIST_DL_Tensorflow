{
  "nbformat": 4,
  "nbformat_minor": 0,
  "metadata": {
    "colab": {
      "name": "ProjectIII.ipynb",
      "provenance": [],
      "collapsed_sections": [],
      "authorship_tag": "ABX9TyO23Vwrx5jqSIeEL3Q6yh0f",
      "include_colab_link": true
    },
    "kernelspec": {
      "name": "python3",
      "display_name": "Python 3"
    },
    "language_info": {
      "name": "python"
    },
    "accelerator": "GPU"
  },
  "cells": [
    {
      "cell_type": "markdown",
      "metadata": {
        "id": "view-in-github",
        "colab_type": "text"
      },
      "source": [
        "<a href=\"https://colab.research.google.com/github/wind123mountain/MNIST_DL_Tensorflow/blob/main/MNIST_Tensorflow.ipynb\" target=\"_parent\"><img src=\"https://colab.research.google.com/assets/colab-badge.svg\" alt=\"Open In Colab\"/></a>"
      ]
    },
    {
      "cell_type": "code",
      "metadata": {
        "id": "0KTRgAVP4uMC",
        "colab": {
          "base_uri": "https://localhost:8080/"
        },
        "outputId": "628e0a5e-b26f-488b-ecea-dbf78593bcad"
      },
      "source": [
        "from tensorflow import keras\n",
        "\n",
        "mnist = keras.datasets.mnist\n",
        "(X_full, y_full), (X_test, y_test) = mnist.load_data()\n",
        "\n",
        "X_valid, X_train = X_full[:5000] / 255.0, X_full[5000:] / 255.0\n",
        "y_valid, y_train = y_full[:5000], y_full[5000:]\n",
        "\n",
        "X_test = X_test / 255.0\n"
      ],
      "execution_count": 1,
      "outputs": [
        {
          "output_type": "stream",
          "name": "stdout",
          "text": [
            "Downloading data from https://storage.googleapis.com/tensorflow/tf-keras-datasets/mnist.npz\n",
            "11493376/11490434 [==============================] - 0s 0us/step\n",
            "11501568/11490434 [==============================] - 0s 0us/step\n"
          ]
        }
      ]
    },
    {
      "cell_type": "code",
      "metadata": {
        "colab": {
          "base_uri": "https://localhost:8080/",
          "height": 411
        },
        "id": "2GzA0zFTjTEc",
        "outputId": "7908c889-edb8-45c0-9897-75ffc6d4e6de"
      },
      "source": [
        "import matplotlib.pyplot as plt\n",
        "\n",
        "plt.figure(figsize=(8, 7))\n",
        "for i in range(12):\n",
        "    plt.subplot(3, 4, i+1)\n",
        "    plt.xticks([])\n",
        "    plt.yticks([])\n",
        "    plt.imshow(X_train[i])\n",
        "    plt.xlabel(y_train[i])\n",
        "plt.show()\n"
      ],
      "execution_count": 2,
      "outputs": [
        {
          "output_type": "display_data",
          "data": {
            "image/png": "[encoded data removed]",
            "text/plain": [
              "<Figure size 576x504 with 12 Axes>"
            ]
          },
          "metadata": {}
        }
      ]
    },
    {
      "cell_type": "code",
      "metadata": {
        "id": "rfLhnCQNpZr7"
      },
      "source": [
        "#Reshape input 2D\n",
        "\n",
        "X_train = X_train.reshape((55000, 28, 28, 1))\n",
        "X_valid = X_valid.reshape((5000, 28, 28, 1))\n",
        "X_test = X_test.reshape((10000, 28, 28, 1))\n"
      ],
      "execution_count": 3,
      "outputs": []
    },
    {
      "cell_type": "code",
      "metadata": {
        "colab": {
          "base_uri": "https://localhost:8080/"
        },
        "id": "xNV28nKFrAtx",
        "outputId": "fd5cce07-2f51-4c71-cdef-72e276b9cc9b"
      },
      "source": [
        "from tensorflow.keras.models import Sequential\n",
        "from tensorflow.keras.layers import Conv2D\n",
        "from tensorflow.keras.layers import MaxPooling2D\n",
        "from tensorflow.keras.layers import Dense\n",
        "from tensorflow.keras.layers import Flatten\n",
        "from tensorflow.keras.layers import BatchNormalization\n",
        "from tensorflow.keras.layers import Dropout\n",
        "\n",
        "# build the model\n",
        "'''\n",
        "model = Sequential([\n",
        "    #data_augmentation,\n",
        "    Conv2D(32, (3, 3), strides=(2, 2), activation=\"relu\", input_shape=(28, 28, 1), padding=\"same\"),\n",
        "    BatchNormalization(),\n",
        "    MaxPooling2D((2, 2)),\n",
        "    Conv2D(64, (3, 3), activation=\"relu\", padding=\"same\"),\n",
        "    MaxPooling2D((2, 2)),\n",
        "    Conv2D(128, (3, 3), activation=\"relu\", padding=\"same\"),\n",
        "    BatchNormalization(),\n",
        "    #MaxPooling2D((2, 2)),\n",
        "    #Dropout(0.5),\n",
        "    Flatten(),\n",
        "    Dense(64, activation=\"relu\"),\n",
        "    Dropout(0.3),\n",
        "    Dense(32, activation=\"relu\"),\n",
        "    Dense(10, activation=\"softmax\"),\n",
        "])\n",
        "'''\n",
        "'''\n",
        "model = Sequential([\n",
        "    #data_augmentation,\n",
        "    Conv2D(32, (3, 3), activation=\"relu\", input_shape=(28, 28, 1), padding=\"same\"),\n",
        "    BatchNormalization(),\n",
        "    MaxPooling2D((2, 2)),\n",
        "    Conv2D(64, (3, 3), activation=\"relu\", padding=\"same\"),\n",
        "    MaxPooling2D((2, 2)),\n",
        "    Conv2D(128, (3, 3), activation=\"relu\", padding=\"same\"),\n",
        "    BatchNormalization(),\n",
        "    MaxPooling2D((2, 2)),\n",
        "    #Dropout(0.5),\n",
        "    Flatten(),\n",
        "    Dense(64, activation=\"relu\"),\n",
        "    Dropout(0.3),\n",
        "    Dense(32, activation=\"relu\"),\n",
        "    Dense(10, activation=\"softmax\"),\n",
        "])\n",
        "'''\n",
        "'''\n",
        "model = Sequential([\n",
        "    #data_augmentation,\n",
        "    Conv2D(32, (3, 3), activation=\"relu\", input_shape=(28, 28, 1), padding=\"same\"),\n",
        "    BatchNormalization(),\n",
        "    MaxPooling2D((2, 2)),\n",
        "    Conv2D(64, (3, 3), activation=\"relu\", padding=\"same\"),\n",
        "    MaxPooling2D((2, 2)),\n",
        "    Conv2D(128, (3, 3), activation=\"relu\", padding=\"same\"),\n",
        "    BatchNormalization(),\n",
        "    Conv2D(160, (3, 3), activation=\"relu\", padding=\"same\"),\n",
        "    MaxPooling2D((2, 2)),\n",
        "    #Dropout(0.5),\n",
        "    Flatten(),\n",
        "    Dropout(0.3),\n",
        "    Dense(64, activation=\"relu\"),\n",
        "    #Dense(32, activation=\"relu\"),\n",
        "    Dense(10, activation=\"softmax\"),\n",
        "])\n",
        "'''\n",
        "from tensorflow.keras import regularizers\n",
        "model = Sequential([\n",
        "    Conv2D(16, (5, 5), activation=\"relu\", input_shape=(28, 28, 1), padding=\"same\"),\n",
        "    BatchNormalization(),\n",
        "    MaxPooling2D((2, 2)),\n",
        "    Conv2D(32, (5, 5), activation=\"relu\", padding=\"same\"),\n",
        "    MaxPooling2D((2, 2)),\n",
        "    Dropout(0.3),\n",
        "    Conv2D(64, (3, 3), activation=\"relu\", padding=\"same\"),\n",
        "    BatchNormalization(),\n",
        "    Conv2D(128, (3, 3), activation=\"relu\", padding=\"same\"),\n",
        "    MaxPooling2D((2, 2)),\n",
        "    Flatten(),\n",
        "    Dropout(0.3),\n",
        "    Dense(64, activation=\"relu\"),\n",
        "    Dense(32, activation=\"relu\"),\n",
        "    Dense(10, activation=\"softmax\"),\n",
        "])\n",
        "\n",
        "model.summary()\n"
      ],
      "execution_count": 4,
      "outputs": [
        {
          "output_type": "stream",
          "name": "stdout",
          "text": [
            "Model: \"sequential\"\n",
            "_________________________________________________________________\n",
            "Layer (type)                 Output Shape              Param #   \n",
            "=================================================================\n",
            "conv2d (Conv2D)              (None, 28, 28, 16)        416       \n",
            "_________________________________________________________________\n",
            "batch_normalization (BatchNo (None, 28, 28, 16)        64        \n",
            "_________________________________________________________________\n",
            "max_pooling2d (MaxPooling2D) (None, 14, 14, 16)        0         \n",
            "_________________________________________________________________\n",
            "conv2d_1 (Conv2D)            (None, 14, 14, 32)        12832     \n",
            "_________________________________________________________________\n",
            "max_pooling2d_1 (MaxPooling2 (None, 7, 7, 32)          0         \n",
            "_________________________________________________________________\n",
            "dropout (Dropout)            (None, 7, 7, 32)          0         \n",
            "_________________________________________________________________\n",
            "conv2d_2 (Conv2D)            (None, 7, 7, 64)          18496     \n",
            "_________________________________________________________________\n",
            "batch_normalization_1 (Batch (None, 7, 7, 64)          256       \n",
            "_________________________________________________________________\n",
            "conv2d_3 (Conv2D)            (None, 7, 7, 128)         73856     \n",
            "_________________________________________________________________\n",
            "max_pooling2d_2 (MaxPooling2 (None, 3, 3, 128)         0         \n",
            "_________________________________________________________________\n",
            "flatten (Flatten)            (None, 1152)              0         \n",
            "_________________________________________________________________\n",
            "dropout_1 (Dropout)          (None, 1152)              0         \n",
            "_________________________________________________________________\n",
            "dense (Dense)                (None, 64)                73792     \n",
            "_________________________________________________________________\n",
            "dense_1 (Dense)              (None, 32)                2080      \n",
            "_________________________________________________________________\n",
            "dense_2 (Dense)              (None, 10)                330       \n",
            "=================================================================\n",
            "Total params: 182,122\n",
            "Trainable params: 181,962\n",
            "Non-trainable params: 160\n",
            "_________________________________________________________________\n"
          ]
        }
      ]
    },
    {
      "cell_type": "code",
      "metadata": {
        "id": "SM_YJCy2rKQo"
      },
      "source": [
        "# compile the model\n",
        "model.compile(loss=keras.losses.SparseCategoricalCrossentropy(), \n",
        "              optimizer=keras.optimizers.SGD(learning_rate = 0.01, momentum = 0.9), \n",
        "              metrics=[\"accuracy\"])\n"
      ],
      "execution_count": 5,
      "outputs": []
    },
    {
      "cell_type": "code",
      "metadata": {
        "colab": {
          "base_uri": "https://localhost:8080/"
        },
        "id": "99JDIR-FrVSs",
        "outputId": "9a04ab4c-f1f0-437b-bb26-7621a7c5d1f7"
      },
      "source": [
        "from keras.callbacks import ModelCheckpoint\n",
        "filepath=\"checkpoint.hdf5\"\n",
        "callback = ModelCheckpoint(filepath, monitor='val_accuracy', verbose=1, save_best_only=True, mode='auto')\n",
        "\n",
        "# start training\n",
        "epochs = 30\n",
        "history = model.fit(X_train, y_train, epochs=epochs, validation_data=(X_valid, y_valid))"
      ],
      "execution_count": 6,
      "outputs": [
        {
          "output_type": "stream",
          "name": "stdout",
          "text": [
            "Epoch 1/30\n",
            "1719/1719 [==============================] - 44s 8ms/step - loss: 0.2068 - accuracy: 0.9345 - val_loss: 0.0650 - val_accuracy: 0.9818\n",
            "Epoch 2/30\n",
            "1719/1719 [==============================] - 12s 7ms/step - loss: 0.0726 - accuracy: 0.9784 - val_loss: 0.0500 - val_accuracy: 0.9866\n",
            "Epoch 3/30\n",
            "1719/1719 [==============================] - 13s 7ms/step - loss: 0.0565 - accuracy: 0.9829 - val_loss: 0.0342 - val_accuracy: 0.9902\n",
            "Epoch 4/30\n",
            "1719/1719 [==============================] - 13s 7ms/step - loss: 0.0443 - accuracy: 0.9865 - val_loss: 0.0301 - val_accuracy: 0.9916\n",
            "Epoch 5/30\n",
            "1719/1719 [==============================] - 13s 7ms/step - loss: 0.0395 - accuracy: 0.9881 - val_loss: 0.0327 - val_accuracy: 0.9912\n",
            "Epoch 6/30\n",
            "1719/1719 [==============================] - 13s 7ms/step - loss: 0.0337 - accuracy: 0.9899 - val_loss: 0.0345 - val_accuracy: 0.9918\n",
            "Epoch 7/30\n",
            "1719/1719 [==============================] - 13s 7ms/step - loss: 0.0297 - accuracy: 0.9907 - val_loss: 0.0429 - val_accuracy: 0.9874\n",
            "Epoch 8/30\n",
            "1719/1719 [==============================] - 12s 7ms/step - loss: 0.0289 - accuracy: 0.9911 - val_loss: 0.0260 - val_accuracy: 0.9914\n",
            "Epoch 9/30\n",
            "1719/1719 [==============================] - 13s 7ms/step - loss: 0.0257 - accuracy: 0.9924 - val_loss: 0.0322 - val_accuracy: 0.9900\n",
            "Epoch 10/30\n",
            "1719/1719 [==============================] - 13s 7ms/step - loss: 0.0239 - accuracy: 0.9925 - val_loss: 0.0251 - val_accuracy: 0.9928\n",
            "Epoch 11/30\n",
            "1719/1719 [==============================] - 13s 7ms/step - loss: 0.0217 - accuracy: 0.9931 - val_loss: 0.0234 - val_accuracy: 0.9932\n",
            "Epoch 12/30\n",
            "1719/1719 [==============================] - 13s 7ms/step - loss: 0.0212 - accuracy: 0.9933 - val_loss: 0.0307 - val_accuracy: 0.9930\n",
            "Epoch 13/30\n",
            "1719/1719 [==============================] - 13s 7ms/step - loss: 0.0193 - accuracy: 0.9943 - val_loss: 0.0273 - val_accuracy: 0.9922\n",
            "Epoch 14/30\n",
            "1719/1719 [==============================] - 13s 7ms/step - loss: 0.0176 - accuracy: 0.9944 - val_loss: 0.0248 - val_accuracy: 0.9928\n",
            "Epoch 15/30\n",
            "1719/1719 [==============================] - 13s 7ms/step - loss: 0.0176 - accuracy: 0.9946 - val_loss: 0.0239 - val_accuracy: 0.9934\n",
            "Epoch 16/30\n",
            "1719/1719 [==============================] - 13s 7ms/step - loss: 0.0177 - accuracy: 0.9943 - val_loss: 0.0306 - val_accuracy: 0.9922\n",
            "Epoch 17/30\n",
            "1719/1719 [==============================] - 13s 7ms/step - loss: 0.0171 - accuracy: 0.9947 - val_loss: 0.0287 - val_accuracy: 0.9934\n",
            "Epoch 18/30\n",
            "1719/1719 [==============================] - 13s 7ms/step - loss: 0.0165 - accuracy: 0.9948 - val_loss: 0.0283 - val_accuracy: 0.9932\n",
            "Epoch 19/30\n",
            "1719/1719 [==============================] - 13s 8ms/step - loss: 0.0139 - accuracy: 0.9954 - val_loss: 0.0431 - val_accuracy: 0.9888\n",
            "Epoch 20/30\n",
            "1719/1719 [==============================] - 12s 7ms/step - loss: 0.0126 - accuracy: 0.9961 - val_loss: 0.0257 - val_accuracy: 0.9938\n",
            "Epoch 21/30\n",
            "1719/1719 [==============================] - 13s 7ms/step - loss: 0.0140 - accuracy: 0.9953 - val_loss: 0.0239 - val_accuracy: 0.9942\n",
            "Epoch 22/30\n",
            "1719/1719 [==============================] - 13s 7ms/step - loss: 0.0136 - accuracy: 0.9957 - val_loss: 0.0281 - val_accuracy: 0.9936\n",
            "Epoch 23/30\n",
            "1719/1719 [==============================] - 13s 7ms/step - loss: 0.0109 - accuracy: 0.9963 - val_loss: 0.0304 - val_accuracy: 0.9938\n",
            "Epoch 24/30\n",
            "1719/1719 [==============================] - 13s 7ms/step - loss: 0.0129 - accuracy: 0.9958 - val_loss: 0.0296 - val_accuracy: 0.9938\n",
            "Epoch 25/30\n",
            "1719/1719 [==============================] - 13s 7ms/step - loss: 0.0113 - accuracy: 0.9963 - val_loss: 0.0273 - val_accuracy: 0.9940\n",
            "Epoch 26/30\n",
            "1719/1719 [==============================] - 13s 8ms/step - loss: 0.0111 - accuracy: 0.9962 - val_loss: 0.0227 - val_accuracy: 0.9936\n",
            "Epoch 27/30\n",
            "1719/1719 [==============================] - 13s 7ms/step - loss: 0.0102 - accuracy: 0.9969 - val_loss: 0.0250 - val_accuracy: 0.9932\n",
            "Epoch 28/30\n",
            "1719/1719 [==============================] - 13s 7ms/step - loss: 0.0098 - accuracy: 0.9972 - val_loss: 0.0286 - val_accuracy: 0.9932\n",
            "Epoch 29/30\n",
            "1719/1719 [==============================] - 13s 7ms/step - loss: 0.0101 - accuracy: 0.9967 - val_loss: 0.0266 - val_accuracy: 0.9942\n",
            "Epoch 30/30\n",
            "1719/1719 [==============================] - 13s 7ms/step - loss: 0.0095 - accuracy: 0.9968 - val_loss: 0.0301 - val_accuracy: 0.9934\n"
          ]
        }
      ]
    },
    {
      "cell_type": "code",
      "metadata": {
        "colab": {
          "base_uri": "https://localhost:8080/",
          "height": 516
        },
        "id": "pUk3ZXWjwqg2",
        "outputId": "9692ae73-b658-4d88-c74b-46e75b23ba73"
      },
      "source": [
        "def plot_graph():\n",
        "    acc = history.history['accuracy']\n",
        "    val_acc = history.history['val_accuracy']\n",
        "\n",
        "    loss = history.history['loss']\n",
        "    val_loss = history.history['val_loss']\n",
        "\n",
        "    plt.plot(range(epochs), acc, \"b\", label=\"Training Accuracy\")\n",
        "    plt.plot(range(epochs), val_acc, \"r\", label=\"Validation Accuracy\")\n",
        "    plt.legend()\n",
        "\n",
        "    plt.figure()\n",
        "\n",
        "    plt.plot(range(epochs), loss, \"g\", label=\"Training Loss\")\n",
        "    plt.plot(range(epochs), val_loss, \"orange\", label=\"Validation Loss\")\n",
        "    plt.legend()\n",
        "\n",
        "    plt.show()\n",
        "\n",
        "plot_graph()"
      ],
      "execution_count": 7,
      "outputs": [
        {
          "output_type": "display_data",
          "data": {
            "image/png": "[encoded data removed]",
            "text/plain": [
              "<Figure size 432x288 with 1 Axes>"
            ]
          },
          "metadata": {
            "needs_background": "light"
          }
        },
        {
          "output_type": "display_data",
          "data": {
            "image/png": "[encoded data removed]",
            "text/plain": [
              "<Figure size 432x288 with 1 Axes>"
            ]
          },
          "metadata": {
            "needs_background": "light"
          }
        }
      ]
    },
    {
      "cell_type": "code",
      "metadata": {
        "colab": {
          "base_uri": "https://localhost:8080/"
        },
        "id": "BMjl1T8Es5Ha",
        "outputId": "c4bc38c8-0e0c-45f3-d76f-98644e7dfd86"
      },
      "source": [
        "test_loss, test_acc = model.evaluate(X_test,  y_test, verbose=2)\n",
        "\n",
        "print('\\nTest accuracy:', test_acc)"
      ],
      "execution_count": 8,
      "outputs": [
        {
          "output_type": "stream",
          "name": "stdout",
          "text": [
            "313/313 - 1s - loss: 0.0244 - accuracy: 0.9944\n",
            "\n",
            "Test accuracy: 0.9944000244140625\n"
          ]
        }
      ]
    },
    {
      "cell_type": "code",
      "metadata": {
        "colab": {
          "base_uri": "https://localhost:8080/"
        },
        "id": "w8CnzGtJ_82-",
        "outputId": "d4cc0cc2-8d66-42f8-9599-6a37c479a34c"
      },
      "source": [
        "print(f'TEST ERROR RATE: {((1-test_acc)*100):.2f} %')"
      ],
      "execution_count": 9,
      "outputs": [
        {
          "output_type": "stream",
          "name": "stdout",
          "text": [
            "TEST ERROR RATE: 0.56 %\n"
          ]
        }
      ]
    }
  ]
}